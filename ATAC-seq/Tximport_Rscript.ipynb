{
 "cells": [
  {
   "cell_type": "code",
   "execution_count": 48,
   "id": "4e010409-91ca-4d44-a412-62c000656c6c",
   "metadata": {
    "scrolled": true
   },
   "outputs": [
    {
     "name": "stderr",
     "output_type": "stream",
     "text": [
      "Loading required package: limma\n",
      "\n",
      "\n",
      "Attaching package: 'limma'\n",
      "\n",
      "\n",
      "The following object is masked from 'package:DESeq2':\n",
      "\n",
      "    plotMA\n",
      "\n",
      "\n",
      "The following object is masked from 'package:BiocGenerics':\n",
      "\n",
      "    plotMA\n",
      "\n",
      "\n"
     ]
    }
   ],
   "source": [
    "library(tximport)\n",
    "library(ensembldb)\n",
    "library(AnnotationHub)\n",
    "library(DESeq2)\n",
    "library(edgeR)"
   ]
  },
  {
   "cell_type": "code",
   "execution_count": 2,
   "id": "c67fc2e3-3561-42eb-b13a-6aaa6a3353f0",
   "metadata": {},
   "outputs": [],
   "source": [
    "hub = AnnotationHub()"
   ]
  },
  {
   "cell_type": "code",
   "execution_count": 9,
   "id": "9f1711cd-11c0-4694-bfbe-23dde6bc1ab4",
   "metadata": {},
   "outputs": [
    {
     "data": {
      "text/plain": [
       "AnnotationHub with 1 record\n",
       "# snapshotDate(): 2024-10-28\n",
       "# names(): AH119325\n",
       "# $dataprovider: Ensembl\n",
       "# $species: Homo sapiens\n",
       "# $rdataclass: EnsDb\n",
       "# $rdatadateadded: 2024-10-28\n",
       "# $title: Ensembl 113 EnsDb for Homo sapiens\n",
       "# $description: Gene and protein annotations for Homo sapiens based on Ensem...\n",
       "# $taxonomyid: 9606\n",
       "# $genome: GRCh38\n",
       "# $sourcetype: ensembl\n",
       "# $sourceurl: http://www.ensembl.org\n",
       "# $sourcesize: NA\n",
       "# $tags: c(\"113\", \"Annotation\", \"AnnotationHubSoftware\", \"Coverage\",\n",
       "#   \"DataImport\", \"EnsDb\", \"Ensembl\", \"Gene\", \"Protein\", \"Sequencing\",\n",
       "#   \"Transcript\") \n",
       "# retrieve record with 'object[[\"AH119325\"]]' "
      ]
     },
     "metadata": {},
     "output_type": "display_data"
    }
   ],
   "source": [
    "#make sure to use the right species\n",
    "ensdb_query <- query(hub, c(\"EnsDb\", \"sapiens\", \"113\"))\n",
    "# ensdb_query"
   ]
  },
  {
   "cell_type": "code",
   "execution_count": 13,
   "id": "95d184e2-9381-4015-a4a1-43807f38108a",
   "metadata": {},
   "outputs": [
    {
     "name": "stderr",
     "output_type": "stream",
     "text": [
      "loading from cache\n",
      "\n"
     ]
    }
   ],
   "source": [
    "ensdb <- ensdb_query[['AH119325']]"
   ]
  },
  {
   "cell_type": "code",
   "execution_count": 14,
   "id": "7872b057-d7e6-474c-b39d-fb36e8591f11",
   "metadata": {},
   "outputs": [],
   "source": [
    "tx_data <- transcripts(ensdb, return.type = \"DataFrame\")"
   ]
  },
  {
   "cell_type": "code",
   "execution_count": 15,
   "id": "eacb0278-e295-427a-8a6a-2c86106058f7",
   "metadata": {},
   "outputs": [],
   "source": [
    "tx2gene <- tx_data[, c(\"tx_id\", \"gene_id\")]"
   ]
  },
  {
   "cell_type": "code",
   "execution_count": 36,
   "id": "4b74a82a-5033-42b9-a30f-32623b9a6faf",
   "metadata": {},
   "outputs": [
    {
     "data": {
      "text/html": [
       "<style>\n",
       ".dl-inline {width: auto; margin:0; padding: 0}\n",
       ".dl-inline>dt, .dl-inline>dd {float: none; width: auto; display: inline-block}\n",
       ".dl-inline>dt::after {content: \":\\0020\"; padding-right: .5ex}\n",
       ".dl-inline>dt:not(:first-of-type) {padding-left: .5ex}\n",
       "</style><dl class=dl-inline><dt>1021_V1_GT25-02267_CGTATTCGNNNNNNNNN-TGTCGACT_S9</dt><dd>'Salmon_results_trim//1021_V1_GT25-02267_CGTATTCGNNNNNNNNN-TGTCGACT_S9/quant.sf'</dd><dt>1021_V2__a-IFNa_GT25-02269_TCACAGCANNNNNNNNN-GAGGCATT_S7</dt><dd>'Salmon_results_trim//1021_V2__a-IFNa_GT25-02269_TCACAGCANNNNNNNNN-GAGGCATT_S7/quant.sf'</dd><dt>1021_V2__a-IFNg___a-IFNa_GT25-02270_CTCCTAGANNNNNNNNN-GCTTCACA_S13</dt><dd>'Salmon_results_trim//1021_V2__a-IFNg___a-IFNa_GT25-02270_CTCCTAGANNNNNNNNN-GCTTCACA_S13/quant.sf'</dd><dt>1021_V2_GT25-02268_GTTAAGGCNNNNNNNNN-ACCTTCGA_S8</dt><dd>'Salmon_results_trim//1021_V2_GT25-02268_GTTAAGGCNNNNNNNNN-ACCTTCGA_S8/quant.sf'</dd><dt>1021_V5__a-IFNg___a-IFNa_GT25-02273_ACGACAGANNNNNNNNN-CGCAACTA_S5</dt><dd>'Salmon_results_trim//1021_V5__a-IFNg___a-IFNa_GT25-02273_ACGACAGANNNNNNNNN-CGCAACTA_S5/quant.sf'</dd><dt>1021_V5__a-IFNg_GT25-02272_TGAACCTGNNNNNNNNN-ACCTCTTC_S11</dt><dd>'Salmon_results_trim//1021_V5__a-IFNg_GT25-02272_TGAACCTGNNNNNNNNN-ACCTCTTC_S11/quant.sf'</dd><dt>1021_V5_GT25-02271_ACACCAGTNNNNNNNNN-AGTGCATC_S3</dt><dd>'Salmon_results_trim//1021_V5_GT25-02271_ACACCAGTNNNNNNNNN-AGTGCATC_S3/quant.sf'</dd><dt>IFNa___anti-IFNa_GT25-02265_TTCGCAGTNNNNNNNNN-TCCGATCA_S6</dt><dd>'Salmon_results_trim//IFNa___anti-IFNa_GT25-02265_TTCGCAGTNNNNNNNNN-TCCGATCA_S6/quant.sf'</dd><dt>IFNa_GT25-02264_TCAAGGACNNNNNNNNN-CATTCGTC_S10</dt><dd>'Salmon_results_trim//IFNa_GT25-02264_TCAAGGACNNNNNNNNN-CATTCGTC_S10/quant.sf'</dd><dt>IFNg___anti-IFNg_GT25-02263_TGGATCACNNNNNNNNN-GCATTGGT_S2</dt><dd>'Salmon_results_trim//IFNg___anti-IFNg_GT25-02263_TGGATCACNNNNNNNNN-GCATTGGT_S2/quant.sf'</dd><dt>IFNg___IFNa_GT25-02266_AGTCGCTTNNNNNNNNN-TCGAACCT_S12</dt><dd>'Salmon_results_trim//IFNg___IFNa_GT25-02266_AGTCGCTTNNNNNNNNN-TCGAACCT_S12/quant.sf'</dd><dt>IFNg_GT25-02262_CCGGAATTNNNNNNNNN-ACCGAATG_S1</dt><dd>'Salmon_results_trim//IFNg_GT25-02262_CCGGAATTNNNNNNNNN-ACCGAATG_S1/quant.sf'</dd><dt>Medium_GT25-02261_CACGTTGTNNNNNNNNN-ACACCTCA_S4</dt><dd>'Salmon_results_trim//Medium_GT25-02261_CACGTTGTNNNNNNNNN-ACACCTCA_S4/quant.sf'</dd><dt>Undetermined_S0</dt><dd>'Salmon_results_trim//Undetermined_S0/quant.sf'</dd></dl>\n"
      ],
      "text/latex": [
       "\\begin{description*}\n",
       "\\item[1021\\textbackslash{}\\_V1\\textbackslash{}\\_GT25-02267\\textbackslash{}\\_CGTATTCGNNNNNNNNN-TGTCGACT\\textbackslash{}\\_S9] 'Salmon\\_results\\_trim//1021\\_V1\\_GT25-02267\\_CGTATTCGNNNNNNNNN-TGTCGACT\\_S9/quant.sf'\n",
       "\\item[1021\\textbackslash{}\\_V2\\textbackslash{}\\_\\textbackslash{}\\_a-IFNa\\textbackslash{}\\_GT25-02269\\textbackslash{}\\_TCACAGCANNNNNNNNN-GAGGCATT\\textbackslash{}\\_S7] 'Salmon\\_results\\_trim//1021\\_V2\\_\\_a-IFNa\\_GT25-02269\\_TCACAGCANNNNNNNNN-GAGGCATT\\_S7/quant.sf'\n",
       "\\item[1021\\textbackslash{}\\_V2\\textbackslash{}\\_\\textbackslash{}\\_a-IFNg\\textbackslash{}\\_\\textbackslash{}\\_\\textbackslash{}\\_a-IFNa\\textbackslash{}\\_GT25-02270\\textbackslash{}\\_CTCCTAGANNNNNNNNN-GCTTCACA\\textbackslash{}\\_S13] 'Salmon\\_results\\_trim//1021\\_V2\\_\\_a-IFNg\\_\\_\\_a-IFNa\\_GT25-02270\\_CTCCTAGANNNNNNNNN-GCTTCACA\\_S13/quant.sf'\n",
       "\\item[1021\\textbackslash{}\\_V2\\textbackslash{}\\_GT25-02268\\textbackslash{}\\_GTTAAGGCNNNNNNNNN-ACCTTCGA\\textbackslash{}\\_S8] 'Salmon\\_results\\_trim//1021\\_V2\\_GT25-02268\\_GTTAAGGCNNNNNNNNN-ACCTTCGA\\_S8/quant.sf'\n",
       "\\item[1021\\textbackslash{}\\_V5\\textbackslash{}\\_\\textbackslash{}\\_a-IFNg\\textbackslash{}\\_\\textbackslash{}\\_\\textbackslash{}\\_a-IFNa\\textbackslash{}\\_GT25-02273\\textbackslash{}\\_ACGACAGANNNNNNNNN-CGCAACTA\\textbackslash{}\\_S5] 'Salmon\\_results\\_trim//1021\\_V5\\_\\_a-IFNg\\_\\_\\_a-IFNa\\_GT25-02273\\_ACGACAGANNNNNNNNN-CGCAACTA\\_S5/quant.sf'\n",
       "\\item[1021\\textbackslash{}\\_V5\\textbackslash{}\\_\\textbackslash{}\\_a-IFNg\\textbackslash{}\\_GT25-02272\\textbackslash{}\\_TGAACCTGNNNNNNNNN-ACCTCTTC\\textbackslash{}\\_S11] 'Salmon\\_results\\_trim//1021\\_V5\\_\\_a-IFNg\\_GT25-02272\\_TGAACCTGNNNNNNNNN-ACCTCTTC\\_S11/quant.sf'\n",
       "\\item[1021\\textbackslash{}\\_V5\\textbackslash{}\\_GT25-02271\\textbackslash{}\\_ACACCAGTNNNNNNNNN-AGTGCATC\\textbackslash{}\\_S3] 'Salmon\\_results\\_trim//1021\\_V5\\_GT25-02271\\_ACACCAGTNNNNNNNNN-AGTGCATC\\_S3/quant.sf'\n",
       "\\item[IFNa\\textbackslash{}\\_\\textbackslash{}\\_\\textbackslash{}\\_anti-IFNa\\textbackslash{}\\_GT25-02265\\textbackslash{}\\_TTCGCAGTNNNNNNNNN-TCCGATCA\\textbackslash{}\\_S6] 'Salmon\\_results\\_trim//IFNa\\_\\_\\_anti-IFNa\\_GT25-02265\\_TTCGCAGTNNNNNNNNN-TCCGATCA\\_S6/quant.sf'\n",
       "\\item[IFNa\\textbackslash{}\\_GT25-02264\\textbackslash{}\\_TCAAGGACNNNNNNNNN-CATTCGTC\\textbackslash{}\\_S10] 'Salmon\\_results\\_trim//IFNa\\_GT25-02264\\_TCAAGGACNNNNNNNNN-CATTCGTC\\_S10/quant.sf'\n",
       "\\item[IFNg\\textbackslash{}\\_\\textbackslash{}\\_\\textbackslash{}\\_anti-IFNg\\textbackslash{}\\_GT25-02263\\textbackslash{}\\_TGGATCACNNNNNNNNN-GCATTGGT\\textbackslash{}\\_S2] 'Salmon\\_results\\_trim//IFNg\\_\\_\\_anti-IFNg\\_GT25-02263\\_TGGATCACNNNNNNNNN-GCATTGGT\\_S2/quant.sf'\n",
       "\\item[IFNg\\textbackslash{}\\_\\textbackslash{}\\_\\textbackslash{}\\_IFNa\\textbackslash{}\\_GT25-02266\\textbackslash{}\\_AGTCGCTTNNNNNNNNN-TCGAACCT\\textbackslash{}\\_S12] 'Salmon\\_results\\_trim//IFNg\\_\\_\\_IFNa\\_GT25-02266\\_AGTCGCTTNNNNNNNNN-TCGAACCT\\_S12/quant.sf'\n",
       "\\item[IFNg\\textbackslash{}\\_GT25-02262\\textbackslash{}\\_CCGGAATTNNNNNNNNN-ACCGAATG\\textbackslash{}\\_S1] 'Salmon\\_results\\_trim//IFNg\\_GT25-02262\\_CCGGAATTNNNNNNNNN-ACCGAATG\\_S1/quant.sf'\n",
       "\\item[Medium\\textbackslash{}\\_GT25-02261\\textbackslash{}\\_CACGTTGTNNNNNNNNN-ACACCTCA\\textbackslash{}\\_S4] 'Salmon\\_results\\_trim//Medium\\_GT25-02261\\_CACGTTGTNNNNNNNNN-ACACCTCA\\_S4/quant.sf'\n",
       "\\item[Undetermined\\textbackslash{}\\_S0] 'Salmon\\_results\\_trim//Undetermined\\_S0/quant.sf'\n",
       "\\end{description*}\n"
      ],
      "text/markdown": [
       "1021_V1_GT25-02267_CGTATTCGNNNNNNNNN-TGTCGACT_S9\n",
       ":   'Salmon_results_trim//1021_V1_GT25-02267_CGTATTCGNNNNNNNNN-TGTCGACT_S9/quant.sf'1021_V2__a-IFNa_GT25-02269_TCACAGCANNNNNNNNN-GAGGCATT_S7\n",
       ":   'Salmon_results_trim//1021_V2__a-IFNa_GT25-02269_TCACAGCANNNNNNNNN-GAGGCATT_S7/quant.sf'1021_V2__a-IFNg___a-IFNa_GT25-02270_CTCCTAGANNNNNNNNN-GCTTCACA_S13\n",
       ":   'Salmon_results_trim//1021_V2__a-IFNg___a-IFNa_GT25-02270_CTCCTAGANNNNNNNNN-GCTTCACA_S13/quant.sf'1021_V2_GT25-02268_GTTAAGGCNNNNNNNNN-ACCTTCGA_S8\n",
       ":   'Salmon_results_trim//1021_V2_GT25-02268_GTTAAGGCNNNNNNNNN-ACCTTCGA_S8/quant.sf'1021_V5__a-IFNg___a-IFNa_GT25-02273_ACGACAGANNNNNNNNN-CGCAACTA_S5\n",
       ":   'Salmon_results_trim//1021_V5__a-IFNg___a-IFNa_GT25-02273_ACGACAGANNNNNNNNN-CGCAACTA_S5/quant.sf'1021_V5__a-IFNg_GT25-02272_TGAACCTGNNNNNNNNN-ACCTCTTC_S11\n",
       ":   'Salmon_results_trim//1021_V5__a-IFNg_GT25-02272_TGAACCTGNNNNNNNNN-ACCTCTTC_S11/quant.sf'1021_V5_GT25-02271_ACACCAGTNNNNNNNNN-AGTGCATC_S3\n",
       ":   'Salmon_results_trim//1021_V5_GT25-02271_ACACCAGTNNNNNNNNN-AGTGCATC_S3/quant.sf'IFNa___anti-IFNa_GT25-02265_TTCGCAGTNNNNNNNNN-TCCGATCA_S6\n",
       ":   'Salmon_results_trim//IFNa___anti-IFNa_GT25-02265_TTCGCAGTNNNNNNNNN-TCCGATCA_S6/quant.sf'IFNa_GT25-02264_TCAAGGACNNNNNNNNN-CATTCGTC_S10\n",
       ":   'Salmon_results_trim//IFNa_GT25-02264_TCAAGGACNNNNNNNNN-CATTCGTC_S10/quant.sf'IFNg___anti-IFNg_GT25-02263_TGGATCACNNNNNNNNN-GCATTGGT_S2\n",
       ":   'Salmon_results_trim//IFNg___anti-IFNg_GT25-02263_TGGATCACNNNNNNNNN-GCATTGGT_S2/quant.sf'IFNg___IFNa_GT25-02266_AGTCGCTTNNNNNNNNN-TCGAACCT_S12\n",
       ":   'Salmon_results_trim//IFNg___IFNa_GT25-02266_AGTCGCTTNNNNNNNNN-TCGAACCT_S12/quant.sf'IFNg_GT25-02262_CCGGAATTNNNNNNNNN-ACCGAATG_S1\n",
       ":   'Salmon_results_trim//IFNg_GT25-02262_CCGGAATTNNNNNNNNN-ACCGAATG_S1/quant.sf'Medium_GT25-02261_CACGTTGTNNNNNNNNN-ACACCTCA_S4\n",
       ":   'Salmon_results_trim//Medium_GT25-02261_CACGTTGTNNNNNNNNN-ACACCTCA_S4/quant.sf'Undetermined_S0\n",
       ":   'Salmon_results_trim//Undetermined_S0/quant.sf'\n",
       "\n"
      ],
      "text/plain": [
       "                                                  1021_V1_GT25-02267_CGTATTCGNNNNNNNNN-TGTCGACT_S9 \n",
       "                  \"Salmon_results_trim//1021_V1_GT25-02267_CGTATTCGNNNNNNNNN-TGTCGACT_S9/quant.sf\" \n",
       "                                          1021_V2__a-IFNa_GT25-02269_TCACAGCANNNNNNNNN-GAGGCATT_S7 \n",
       "          \"Salmon_results_trim//1021_V2__a-IFNa_GT25-02269_TCACAGCANNNNNNNNN-GAGGCATT_S7/quant.sf\" \n",
       "                                1021_V2__a-IFNg___a-IFNa_GT25-02270_CTCCTAGANNNNNNNNN-GCTTCACA_S13 \n",
       "\"Salmon_results_trim//1021_V2__a-IFNg___a-IFNa_GT25-02270_CTCCTAGANNNNNNNNN-GCTTCACA_S13/quant.sf\" \n",
       "                                                  1021_V2_GT25-02268_GTTAAGGCNNNNNNNNN-ACCTTCGA_S8 \n",
       "                  \"Salmon_results_trim//1021_V2_GT25-02268_GTTAAGGCNNNNNNNNN-ACCTTCGA_S8/quant.sf\" \n",
       "                                 1021_V5__a-IFNg___a-IFNa_GT25-02273_ACGACAGANNNNNNNNN-CGCAACTA_S5 \n",
       " \"Salmon_results_trim//1021_V5__a-IFNg___a-IFNa_GT25-02273_ACGACAGANNNNNNNNN-CGCAACTA_S5/quant.sf\" \n",
       "                                         1021_V5__a-IFNg_GT25-02272_TGAACCTGNNNNNNNNN-ACCTCTTC_S11 \n",
       "         \"Salmon_results_trim//1021_V5__a-IFNg_GT25-02272_TGAACCTGNNNNNNNNN-ACCTCTTC_S11/quant.sf\" \n",
       "                                                  1021_V5_GT25-02271_ACACCAGTNNNNNNNNN-AGTGCATC_S3 \n",
       "                  \"Salmon_results_trim//1021_V5_GT25-02271_ACACCAGTNNNNNNNNN-AGTGCATC_S3/quant.sf\" \n",
       "                                         IFNa___anti-IFNa_GT25-02265_TTCGCAGTNNNNNNNNN-TCCGATCA_S6 \n",
       "         \"Salmon_results_trim//IFNa___anti-IFNa_GT25-02265_TTCGCAGTNNNNNNNNN-TCCGATCA_S6/quant.sf\" \n",
       "                                                    IFNa_GT25-02264_TCAAGGACNNNNNNNNN-CATTCGTC_S10 \n",
       "                    \"Salmon_results_trim//IFNa_GT25-02264_TCAAGGACNNNNNNNNN-CATTCGTC_S10/quant.sf\" \n",
       "                                         IFNg___anti-IFNg_GT25-02263_TGGATCACNNNNNNNNN-GCATTGGT_S2 \n",
       "         \"Salmon_results_trim//IFNg___anti-IFNg_GT25-02263_TGGATCACNNNNNNNNN-GCATTGGT_S2/quant.sf\" \n",
       "                                             IFNg___IFNa_GT25-02266_AGTCGCTTNNNNNNNNN-TCGAACCT_S12 \n",
       "             \"Salmon_results_trim//IFNg___IFNa_GT25-02266_AGTCGCTTNNNNNNNNN-TCGAACCT_S12/quant.sf\" \n",
       "                                                     IFNg_GT25-02262_CCGGAATTNNNNNNNNN-ACCGAATG_S1 \n",
       "                     \"Salmon_results_trim//IFNg_GT25-02262_CCGGAATTNNNNNNNNN-ACCGAATG_S1/quant.sf\" \n",
       "                                                   Medium_GT25-02261_CACGTTGTNNNNNNNNN-ACACCTCA_S4 \n",
       "                   \"Salmon_results_trim//Medium_GT25-02261_CACGTTGTNNNNNNNNN-ACACCTCA_S4/quant.sf\" \n",
       "                                                                                   Undetermined_S0 \n",
       "                                                   \"Salmon_results_trim//Undetermined_S0/quant.sf\" "
      ]
     },
     "metadata": {},
     "output_type": "display_data"
    }
   ],
   "source": [
    "quants_dir <- \"Salmon_results_trim/\"\n",
    "\n",
    "quant_files <- list.files(quants_dir, pattern = \"quant.sf$\", recursive = TRUE, full.names = TRUE)\n",
    "\n",
    "# quant_dirs <- list.files(quants_dir, pattern = \"_GT25\", full.names = TRUE)\n",
    "sample_names <- sub(\".*/(.*)/quant.sf$\", \"\\\\1\", quant_files)\n",
    "\n",
    "names(quant_files) <- sample_names\n",
    "\n",
    "quant_files"
   ]
  },
  {
   "cell_type": "code",
   "execution_count": 37,
   "id": "067529d9-b0f1-4ea0-8224-2949a146102b",
   "metadata": {
    "scrolled": true
   },
   "outputs": [
    {
     "name": "stderr",
     "output_type": "stream",
     "text": [
      "reading in files with read_tsv\n",
      "\n",
      "1 \n",
      "2 \n",
      "3 \n",
      "4 \n",
      "5 \n",
      "6 \n",
      "7 \n",
      "8 \n",
      "9 \n",
      "10 \n",
      "11 \n",
      "12 \n",
      "13 \n",
      "14 \n",
      "\n",
      "\n",
      "summarizing abundance\n",
      "\n",
      "summarizing counts\n",
      "\n",
      "summarizing length\n",
      "\n"
     ]
    }
   ],
   "source": [
    "txi <- tximport(quant_files, type = \"salmon\", tx2gene = tx2gene,ignoreTxVersion = TRUE)"
   ]
  },
  {
   "cell_type": "code",
   "execution_count": 42,
   "id": "2ec332fd-a155-4a60-ac9f-4984d5ba4b5e",
   "metadata": {},
   "outputs": [],
   "source": [
    "write.csv(txi$counts, file = \"gene_level_count.csv\", row.names = TRUE)"
   ]
  },
  {
   "cell_type": "code",
   "execution_count": 49,
   "id": "8b6db623-b18c-4611-a676-1e506f85e552",
   "metadata": {},
   "outputs": [],
   "source": [
    "count_data <- txi$counts "
   ]
  },
  {
   "cell_type": "code",
   "execution_count": 50,
   "id": "f926eb5a-18ee-4cee-b562-8c35e3c508fe",
   "metadata": {},
   "outputs": [],
   "source": [
    "dge <- DGEList(counts = count_data)"
   ]
  },
  {
   "cell_type": "code",
   "execution_count": 52,
   "id": "74553cf6-289c-4321-bf60-4b698c5d970f",
   "metadata": {},
   "outputs": [],
   "source": [
    "dge <- calcNormFactors(dge, method = \"TMM\")"
   ]
  },
  {
   "cell_type": "code",
   "execution_count": 57,
   "id": "915d81db-665c-4a73-8062-dab7c62445c6",
   "metadata": {},
   "outputs": [],
   "source": [
    "cpm_data <- cpm(dge)\n",
    "keep_genes <- rowSums(cpm_data > 1) >= 2\n",
    "dge_filtered <- dge[keep_genes, , keep.lib.sizes = FALSE]"
   ]
  },
  {
   "cell_type": "code",
   "execution_count": 58,
   "id": "815d5988-2841-42fb-a034-dfc2bc49a575",
   "metadata": {},
   "outputs": [],
   "source": [
    "normalized_counts <- cpm(dge_filtered, normalized.lib.sizes = TRUE)"
   ]
  },
  {
   "cell_type": "code",
   "execution_count": 60,
   "id": "b70a0d7a-d196-404b-a732-eb513ea730f4",
   "metadata": {},
   "outputs": [],
   "source": [
    "write.csv(normalized_counts, file = \"gene_level_count_tmm_normalized.csv\", row.names = TRUE)"
   ]
  }
 ],
 "metadata": {
  "kernelspec": {
   "display_name": "R",
   "language": "R",
   "name": "ir"
  },
  "language_info": {
   "codemirror_mode": "r",
   "file_extension": ".r",
   "mimetype": "text/x-r-source",
   "name": "R",
   "pygments_lexer": "r",
   "version": "4.4.3"
  }
 },
 "nbformat": 4,
 "nbformat_minor": 5
}

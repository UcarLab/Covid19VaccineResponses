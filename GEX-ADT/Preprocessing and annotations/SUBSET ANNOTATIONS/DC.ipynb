{
 "cells": [
  {
   "cell_type": "code",
   "execution_count": 1,
   "id": "5229b64e-7863-401d-ab5c-63c22d805525",
   "metadata": {},
   "outputs": [
    {
     "name": "stdout",
     "output_type": "stream",
     "text": [
      "WARNING: consider updating your call to make use of `computation`\n"
     ]
    }
   ],
   "source": [
    "import warnings\n",
    "warnings.simplefilter(\"ignore\")\n",
    "\n",
    "import scanpy as sc\n",
    "\n",
    "\"\"\"\n",
    "Only uses rna to do umap/leiden\n",
    "\"\"\"\n",
    "\n",
    "ct = 'DC'\n",
    "adata = sc.read_h5ad(f'{ct}.h5ad')\n",
    "\n",
    "adata = adata.raw.to_adata()\n",
    "\n",
    "adata.raw = adata.copy()\n",
    "\n",
    "adata = adata[:, adata.var.is_rna]\n",
    "\n",
    "sc.pp.highly_variable_genes(adata, batch_key='library')\n",
    "\n",
    "adata = adata[:, adata.var.highly_variable]\n",
    "\n",
    "sc.pp.scale(adata, max_value=10)\n",
    "sc.tl.pca(adata, svd_solver='arpack')\n",
    "\n",
    "sc.external.pp.bbknn(adata, batch_key='library', n_pcs=30)\n",
    "sc.tl.umap(adata)\n",
    "\n",
    "\n",
    "sc.tl.leiden(adata, key_added='subset_leiden_100', resolution = 1)\n",
    "\n",
    "adata.obs['new_subset_annotations'] = adata.obs['subset_leiden_100'].map({\n",
    "    '0':'DC CD1C',\n",
    "    '1':'pDC',\n",
    "    '2':'DC CD1C',\n",
    "    '3':'DC CD1C',\n",
    "    '4':'DC CD1C ISG',\n",
    "    '5':'Trash',\n",
    "    '6':'DC CLEC9A',\n",
    "    '7':'DC AXL',\n",
    "    '8':'Trash',\n",
    "})\n",
    "\n",
    "adata.write_h5ad(f'{ct}.h5ad')\n"
   ]
  },
  {
   "cell_type": "code",
   "execution_count": null,
   "id": "e0125683-168c-4233-a342-932f19a366ad",
   "metadata": {},
   "outputs": [],
   "source": []
  }
 ],
 "metadata": {
  "kernelspec": {
   "display_name": "Python 3 (ipykernel)",
   "language": "python",
   "name": "python3"
  },
  "language_info": {
   "codemirror_mode": {
    "name": "ipython",
    "version": 3
   },
   "file_extension": ".py",
   "mimetype": "text/x-python",
   "name": "python",
   "nbconvert_exporter": "python",
   "pygments_lexer": "ipython3",
   "version": "3.12.1"
  }
 },
 "nbformat": 4,
 "nbformat_minor": 5
}
